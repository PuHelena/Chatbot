{
  "nbformat": 4,
  "nbformat_minor": 0,
  "metadata": {
    "colab": {
      "provenance": [],
      "include_colab_link": true
    },
    "kernelspec": {
      "name": "python3",
      "display_name": "Python 3"
    },
    "language_info": {
      "name": "python"
    }
  },
  "cells": [
    {
      "cell_type": "markdown",
      "metadata": {
        "id": "view-in-github",
        "colab_type": "text"
      },
      "source": [
        "<a href=\"https://colab.research.google.com/github/PuHelena/Chatbot/blob/main/%D0%9A%D0%BE%D0%BF%D0%B8%D1%8F_%D0%B1%D0%BB%D0%BE%D0%BA%D0%BD%D0%BE%D1%82%D0%B0_%22%D0%9F%D1%80%D0%BE%D0%B4%D0%B2%D0%B8%D0%BD%D1%83%D1%82%D1%8B%D0%B9_%D0%B1%D0%BB%D0%BE%D0%BA_%7C_%D0%93%D0%B5%D0%BD%D0%B5%D1%80%D0%B0%D1%82%D0%B8%D0%B2%D0%BD%D0%BE_%D1%81%D0%BE%D1%81%D1%82%D1%8F%D0%B7%D0%B0%D1%82%D0%B5%D0%BB%D1%8C%D0%BD%D1%8B%D0%B5_%D1%81%D0%B5%D1%82%D0%B8_%7C_%D0%94%D0%97_Pro_%7C_%D0%A3%D0%98%D0%98%22.ipynb\" target=\"_parent\"><img src=\"https://colab.research.google.com/assets/colab-badge.svg\" alt=\"Open In Colab\"/></a>"
      ]
    },
    {
      "cell_type": "markdown",
      "metadata": {
        "id": "L0FXhiuS3hNE"
      },
      "source": [
        "\n",
        "1. Сделайте ConditionalGAN (Генеративно-состязательная сеть с условием) для генерации изображений Fashion Mnist, но вместо индекса изображения на label подавайте рукописную цифру из Mnist картинкой 28 на 28.\n",
        "2. Добейтесь максимальной детализации изображений, насколько получится.\n",
        "3. Попробуйте сгенерировать образ по рукописным цифрам, нарисованным в paint."
      ]
    },
    {
      "cell_type": "code",
      "metadata": {
        "id": "v0h5XYNk6nqu"
      },
      "source": [
        "# Загрузка библиотек\n",
        "\n",
        "# Базовые слои keras\n",
        "from keras.layers import Input, Dense, Reshape, Flatten, Dropout\n",
        "\n",
        "# Еще базовые слои\n",
        "from keras.layers import BatchNormalization, Activation, MaxPooling2D, concatenate, Embedding, multiply, Conv2DTranspose, Concatenate\n",
        "\n",
        "# Активационная функция\n",
        "from keras.layers.advanced_activations import LeakyReLU\n",
        "\n",
        "# Загрузим сверточные слои\n",
        "from keras.layers.convolutional import UpSampling2D, Conv2D \n",
        "\n",
        "# Загрузим форматы моделей\n",
        "from keras.models import Sequential, Model \n",
        "\n",
        "# Загрузим оптимизатор\n",
        "from tensorflow.keras.optimizers.legacy import Adam\n",
        "\n",
        "# Загрузим модули с датасетами\n",
        "from keras.datasets import mnist, cifar10, fashion_mnist\n",
        "\n",
        "# Библиотека для отрисовки графиков\n",
        "import matplotlib.pyplot as plt \n",
        "\n",
        "# Импортируем библиотеку для работы с системой\n",
        "import sys\n",
        "\n",
        "# Numpy массивы\n",
        "import numpy as np\n",
        "\n",
        "# Модуль отрисовки изображений\n",
        "from PIL import Image \n",
        "\n",
        "# Модуль для загрузки уже готовых моделей\n",
        "from tensorflow.keras.models import load_model\n",
        "\n",
        "# Библиотека для работы с файловой системой виртуальной машины\n",
        "import os"
      ],
      "execution_count": null,
      "outputs": []
    },
    {
      "cell_type": "code",
      "metadata": {
        "id": "KZg83xRhUZRi",
        "colab": {
          "base_uri": "https://localhost:8080/"
        },
        "outputId": "f41ebfca-ae68-4a98-cf45-0a41f0b3ef51"
      },
      "source": [
        "# загрузим базу MNIST\n",
        "\n",
        "(xTrainMnist, yTrainMnist), (xTestMnist, yTestMnist) = mnist.load_data()"
      ],
      "execution_count": null,
      "outputs": [
        {
          "output_type": "stream",
          "name": "stdout",
          "text": [
            "Downloading data from https://storage.googleapis.com/tensorflow/tf-keras-datasets/mnist.npz\n",
            "11493376/11490434 [==============================] - 0s 0us/step\n",
            "11501568/11490434 [==============================] - 0s 0us/step\n"
          ]
        }
      ]
    },
    {
      "cell_type": "code",
      "metadata": {
        "id": "4V_vogkCyayd",
        "colab": {
          "base_uri": "https://localhost:8080/"
        },
        "outputId": "8834586e-9143-4f91-c823-21143ba0225d"
      },
      "source": [
        "# загрузим базу Fashion MNIST\n",
        "\n",
        "(xTrainMnistF, yTrainMnistF), (xTestMnistF, yTestMnistF) = fashion_mnist.load_data()"
      ],
      "execution_count": null,
      "outputs": [
        {
          "output_type": "stream",
          "name": "stdout",
          "text": [
            "Downloading data from https://storage.googleapis.com/tensorflow/tf-keras-datasets/train-labels-idx1-ubyte.gz\n",
            "32768/29515 [=================================] - 0s 0us/step\n",
            "40960/29515 [=========================================] - 0s 0us/step\n",
            "Downloading data from https://storage.googleapis.com/tensorflow/tf-keras-datasets/train-images-idx3-ubyte.gz\n",
            "26427392/26421880 [==============================] - 0s 0us/step\n",
            "26435584/26421880 [==============================] - 0s 0us/step\n",
            "Downloading data from https://storage.googleapis.com/tensorflow/tf-keras-datasets/t10k-labels-idx1-ubyte.gz\n",
            "16384/5148 [===============================================================================================] - 0s 0us/step\n",
            "Downloading data from https://storage.googleapis.com/tensorflow/tf-keras-datasets/t10k-images-idx3-ubyte.gz\n",
            "4423680/4422102 [==============================] - 0s 0us/step\n",
            "4431872/4422102 [==============================] - 0s 0us/step\n"
          ]
        }
      ]
    },
    {
      "cell_type": "code",
      "source": [
        "xTrainMnist=np.concatenate([xTrainMnist,xTestMnist])\n",
        "yTrainMnist=np.concatenate([yTrainMnist,yTestMnist])\n",
        "\n",
        "print(xTrainMnist.shape)\n",
        "print(yTrainMnist.shape)\n",
        "\n",
        "plt.imshow(xTrainMnist[0],cmap='gray')"
      ],
      "metadata": {
        "id": "k9J2E4K5ww9d"
      },
      "execution_count": null,
      "outputs": []
    },
    {
      "cell_type": "code",
      "source": [
        "xTrainMnist = xTrainMnist/ 127.5 - 1.0\n",
        "\n",
        "xTrainMnist = xTrainMnist.reshape(xTrainMnist.shape[0], 28, 28, 1)\n",
        "\n",
        "print(xTrainMnist.shape)\n",
        "print(yTrainMnist.shape)"
      ],
      "metadata": {
        "id": "Zgci6eGBw9rS"
      },
      "execution_count": null,
      "outputs": []
    },
    {
      "cell_type": "code",
      "source": [
        "xTrainMnistF=np.concatenate([xTrainMnistF,xTestMnistF])\n",
        "yTrainMnistF=np.concatenate([yTrainMnistF,yTestMnistF])\n",
        "\n",
        "plt.imshow(xTrainMnistF[0],cmap='gray')"
      ],
      "metadata": {
        "id": "bL6iXlfrxJjn"
      },
      "execution_count": null,
      "outputs": []
    },
    {
      "cell_type": "code",
      "source": [
        "xTrainMnistF = xTrainMnistF / 127.5 - 1.0\n",
        "\n",
        "xTrainMnistF = xTrainMnistF.reshape(xTrainMnistF.shape[0], 28, 28, 1) \n",
        "\n",
        "print(xTrainMnistF.shape)\n",
        "print(yTrainMnistF.shape)"
      ],
      "metadata": {
        "id": "qX-gdGqqxT70"
      },
      "execution_count": null,
      "outputs": []
    },
    {
      "cell_type": "code",
      "source": [
        "num_classes = len(set(yTrainMnist))\n",
        "\n",
        "print('Всего классов у нас будет ', num_classes)\n",
        "\n",
        "print('Fashion MNIST')\n",
        "\n",
        "\n",
        "for i in range (num_classes):\n",
        "    temp = np.array(np.where(yTrainMnistF==i))  \n",
        "    print(temp.shape)\n",
        "\n",
        "print()\n",
        "print('MNIST')\n",
        "\n",
        "for i in range (num_classes):\n",
        "    temp = np.array(np.where(yTrainMnist==i)) \n",
        "    print(temp.shape)"
      ],
      "metadata": {
        "id": "hGW6Quxkxehb"
      },
      "execution_count": null,
      "outputs": []
    },
    {
      "cell_type": "code",
      "source": [
        "def createSortedXTrain(trainLen):\n",
        "  '''\n",
        "  В данной функции происходит синхронизация количества элементов из разных выборок.\n",
        "\n",
        "  Args:\n",
        "    trainLen    - количество элементов, которое должно остаться в каждой базе.\n",
        "\n",
        "  Returns:\n",
        "    trainMnist  - обучающая выборка из картинок цифр \n",
        "    trainMnistF - обучающая выборка из картинок одежды\n",
        "  '''\n",
        "  \n",
        "  # Создадим пустой список обучающей выборки цифр\n",
        "  trainMnist = []                                                   \n",
        "  \n",
        "  # Создадим пустой список обучающей выборки одежды \n",
        "  trainMnistF = []                                                    \n",
        "  \n",
        "  # Пройдемся по всем классам\n",
        "  for i in range(num_classes):\n",
        "    \n",
        "    # Если метка совпадает с номером класса, запишем цифру в переменную\n",
        "    currTrainMnist = xTrainMnist[yTrainMnist==i,:]\n",
        "    # Если метка совпадает с номером класса, запишем вариант одежды в переменную\n",
        "    currTrainMnistF = xTrainMnistF[yTrainMnistF.flatten()==i,:]\n",
        "    # Оставим только ограниченное число элементов цифр (в данном случае 6300)\n",
        "    currTrainMnist = currTrainMnist[:trainLen]\n",
        "    # Оставим только ограниченное число элементов одежды (в данном случае 6300)\n",
        "    currTrainMnistF = currTrainMnistF[:trainLen]\n",
        "    # Занесем в подготовленный пустой список цифр список полученных элементов текущего класса \n",
        "    trainMnist.extend(list(currTrainMnist))\n",
        "    # Занесем в подготовленный пустой список одежды список полученных элементов текущего класса\n",
        "    trainMnistF.extend(list(currTrainMnistF))\n",
        "  \n",
        "  # Преобразуем списки в Numpy массивы\n",
        "  trainMnist = np.array(trainMnist)\n",
        "  trainMnistF = np.array(trainMnistF)\n",
        "  \n",
        "  # Функция возвращает обучающие выборк цифр и одежды\n",
        "  return trainMnist, trainMnistF"
      ],
      "metadata": {
        "id": "t7jad0bIyINz"
      },
      "execution_count": null,
      "outputs": []
    },
    {
      "cell_type": "code",
      "source": [
        "trainMnist, trainMnistF = createSortedXTrain(6300)\n",
        "\n",
        "print('Размерность выборки цифр ',trainMnist.shape)\n",
        "print('Размерность выборки одежды ',trainMnistF.shape)\n",
        "\n",
        "trainMnist = trainMnist.reshape(trainMnist.shape[0], 28, 28, 1)\n",
        "trainMnist.shape"
      ],
      "metadata": {
        "id": "IfcgNQrRyTWw"
      },
      "execution_count": null,
      "outputs": []
    },
    {
      "cell_type": "code",
      "source": [
        "def plotImages(startIndex, \n",
        "               xTrain, \n",
        "               pred):\n",
        "  '''\n",
        "  Объявляем функцию, которая будет выводить картинки\n",
        "\n",
        "  Args:\n",
        "    startIndex   - начиная с какого индекса будем отображать \n",
        "    xTrain       - обучающая выборка (по сути вход сети)\n",
        "    pred         - результат работы сети  \n",
        "  \n",
        "  Функция ничего не возвращает\n",
        "  '''\n",
        "\n",
        "  # Сколько картинок хотим показать\n",
        "  n = 5  \n",
        "  # Зададим размер этих картинок\n",
        "  plt.figure(figsize=(10, 4))\n",
        "\n",
        "  # Пройдемся по номеру каждой картинки\n",
        "  for i in range(n):\n",
        "      # Сразу утвердим индекс для картинки, которую рассматриваем\n",
        "      index = i + startIndex\n",
        "      # Подготовим поле отображения картинки\n",
        "      ax = plt.subplot(2, n, i + 1)\n",
        "      # Покажем картинку под номером index. Предварительно преобразовав ее в 28х28\n",
        "      plt.imshow(xTrain[index].reshape(28, 28))\n",
        "      # Сменим палитру\n",
        "      plt.gray()\n",
        "      ax.get_xaxis().set_visible(False)\n",
        "      ax.get_yaxis().set_visible(False)\n",
        "\n",
        "      # Показываем восстановленные картинки\n",
        "      ax = plt.subplot(2, n, i + 1 + n)\n",
        "      plt.imshow(pred[index].reshape(28,28))\n",
        "      plt.gray()\n",
        "      ax.get_xaxis().set_visible(False)\n",
        "      ax.get_yaxis().set_visible(False)\n",
        "  plt.show()\n",
        "\n",
        "plotImages(6298, trainMnist, trainMnistF)"
      ],
      "metadata": {
        "id": "eR59t6cUyd6E"
      },
      "execution_count": null,
      "outputs": []
    },
    {
      "cell_type": "code",
      "source": [
        "channels = 1                                                                    # Зададим количество каналов цветности\n",
        "noise_chanells = 128                                                            # Зададим количество каналов для генерации шума\n",
        "latent_dim = 100                                                                # Зададим размер скрытого пространства\n",
        "img_rows,img_cols = 28,28                                                       # Размер строк и столбцов             \n",
        "img_shape = (img_rows, img_cols, channels)                                      # Общая размерность картинки (28,28,1)\n",
        "optimizer = Adam(0.0002, 0.5)                                                   # Оптимизатор Adam. Шаг lr = 0.0002. Альфа 0.5\n",
        "batch_size = 128                                                                # Размер батча определим как 128\n",
        "print(img_shape)                                                                # Выведем размерность одной картинки  "
      ],
      "metadata": {
        "id": "9cNgaO0hykEM"
      },
      "execution_count": null,
      "outputs": []
    },
    {
      "cell_type": "code",
      "source": [
        "def create_conditional_generator():\n",
        "  '''\n",
        "  Данная функция создает генератор с условием. В ней имеется два входа. На первый подается шум \n",
        "  в виде вектора latent_dim (noise). На второй картинка размером (28,28,1). \n",
        "\n",
        "  Аргументов на вход нет.\n",
        "\n",
        "  Returns:\n",
        "    generator - модель генератора\n",
        "  '''\n",
        "\n",
        "  generator = Sequential()                                                      # Создадим сеть линейной направленности\n",
        "  generator.add (Conv2DTranspose(128, (4,4), strides=(2,2), padding='same'))    # Добавим сверточный слой Conv2DTranspose \n",
        "  generator.add (LeakyReLU(alpha=0.2))                                          # Добавим слой LeakyReLU\n",
        "  generator.add (Conv2DTranspose(128, (4,4), strides=(2,2), padding='same'))    # Еще один Conv2DTranspose\n",
        "  generator.add (LeakyReLU(alpha=0.2))                                          # Еще слой активационной функции\n",
        "  generator.add (Conv2D (1, (7,7), activation='tanh', padding='same'))          # Сверточный слой, который выдает 1 картинку\n",
        "\n",
        "  # Первая ветвь генератора начинается здесь. На вход приходит вектор размером latent_dim (просто одномерный вектор). \n",
        "  noise = Input(shape=(latent_dim,))\n",
        "  noise_modify = Dense (noise_chanells * 7 * 7) (noise)                         # Добавим полносвязный слой \n",
        "  noise_modify = LeakyReLU (alpha=0.2) (noise_modify)                           # Еще слой активационной функции\n",
        "  noise_modify = Reshape ((7,7,noise_chanells)) (noise_modify)                  # Преобразуем в картинку (7,7,кол-во каналов)\n",
        "  \n",
        "  # Вторая ветвь генератора начинается здесь. На вход приходит картинка 28х28х1 (цифра из MNIST)\n",
        "  label = Input(shape=(28,28,1))\n",
        "  label_modify = Flatten() (label)                                              # Этот слой преобразует картинку в длинный вектор\n",
        "  label_modify = Dense (7*7) (label_modify)                                     # Добавим полносвязный слой размером 7х7=49\n",
        "  label_modify = Reshape ((7,7,1)) (label_modify)                               # Преобразуем в картинку 7х7х1\n",
        "  \n",
        "  model_input = concatenate([noise_modify, label_modify])                       # Объединим выходы в переменную model_input    \n",
        "  img = generator(model_input)                                                  # Передадим в генератор результат объединения\n",
        "  \n",
        "  generator = Model([noise, label], img)                                        # Соберем каркас генератора.\n",
        "  \n",
        "  # Возвращаем созданный генератор\n",
        "  return generator"
      ],
      "metadata": {
        "id": "DjT-qnNHy1c7"
      },
      "execution_count": null,
      "outputs": []
    },
    {
      "cell_type": "code",
      "source": [
        "def create_conditional_discriminator():\n",
        "  '''\n",
        "  Создадим функцию дискриминатора с условием. На вход он будет получать две картинки 28х28х1\n",
        "\n",
        "  Аргументов функция не получает.\n",
        "\n",
        "  Returns:\n",
        "    discriminator - возвращает дискриминатор\n",
        "  '''\n",
        "\n",
        "  discriminator = Sequential()                                                  # Создадим сеть линейной направленности \n",
        "  discriminator.add(Conv2D(32,(3,3),strides=(2,2), padding='same'))             # Добавим сверточный слой 32 нейрона\n",
        "  discriminator.add(LeakyReLU(alpha=0.2))                                       # Слой активационной функции\n",
        "  discriminator.add(Conv2D(32,(3,3),strides=(2,2), padding='same'))             # Еще один сверточный слой\n",
        "  discriminator.add(LeakyReLU(alpha=0.2))                                       # Слой активационной функции\n",
        "  discriminator.add(Flatten())                                                  # Выравнивающий слой\n",
        "  discriminator.add(Dense(32))                                                  # Полносвязный слой на 32 нейрона\n",
        "  discriminator.add(Dropout(0.4))                                               # Слой для случайного отключения нейронов\n",
        "  discriminator.add(Dense(1,activation='sigmoid'))                              # Выходом имеется полносвязный слой с одним нейроном\n",
        "  \n",
        "  img = Input(shape=img_shape)                                                  # Первый вход - картинка из базы одежды\n",
        "  label = Input(shape=(28,28,1))                                                # Второй вход - картинка из базы цифр\n",
        "  model_input = concatenate([img,label])                                        # Объединяем данные от двух входов\n",
        "  validity = discriminator(model_input)                                         # Записываем вход в дискриминатор\n",
        "  \n",
        "  # Собираем \"скелет\" дискриминатора из двух входов (img,label)  и одного выхода (validity)\n",
        "  discriminator = Model([img, label], validity)\n",
        "  \n",
        "  # Компилируем сеть\n",
        "  discriminator.compile(loss='binary_crossentropy',         # Бинарную кроссэнтропию выбрали так как у нас два состояния\n",
        "              optimizer=optimizer,                          # Выбрали оптимизатор\n",
        "              metrics=['accuracy'])                         # Проставили метрику  \n",
        " \n",
        "  # Застопорим обучение дискриминатора, так как он должен обучаться отдельно от генератора\n",
        "  discriminator.trainable = False\n",
        "  \n",
        "  # Функция возвращает дискриминатор\n",
        "  return discriminator"
      ],
      "metadata": {
        "id": "6AU9_kVUy81d"
      },
      "execution_count": null,
      "outputs": []
    },
    {
      "cell_type": "code",
      "source": [
        "yTrain=[]                                                                       # Создадим список\n",
        "\n",
        "# Пройдемся по всем 10 классам\n",
        "for i in range(10):  \n",
        "  yTrain.extend([i for n in range(6300)])                                       # Запишем метки в соответствующие классы\n",
        "\n",
        "yTrain=np.array(yTrain)                       "
      ],
      "metadata": {
        "id": "sf-CALbCzCy8"
      },
      "execution_count": null,
      "outputs": []
    },
    {
      "cell_type": "code",
      "source": [
        "def sample_images_conditional(epoch, \n",
        "                              gen):\n",
        "  '''\n",
        "  Функция будет отображать картинки, созданные генератором.\n",
        "\n",
        "  Arguments:\n",
        "     epoch   - номер эпохи\n",
        "     gen     - передаваемый генератор\n",
        "  \n",
        "  Функция ничего не возвращает. Только выводит картинки.\n",
        "  '''\n",
        "  \n",
        "  # Определим количество строк и колонок \n",
        "  r, c = 2, 5                                                                    \n",
        "  \n",
        "  # Создается матрица значений нормального распределения\n",
        "  noise = np.random.normal(0, 1, (r * c, latent_dim))                           \n",
        "  \n",
        "  # Создадим пустой список\n",
        "  sampled_labels=[]                                                             \n",
        "\n",
        "  # Генерируем массив из 10 случайных меток (от 0 до 9)\n",
        "  for i in range(num_classes):                                                  \n",
        "    # Берём случайную метку из всех меток i-го класса\n",
        "    sampled_labels.append(trainMnist[yTrain==i][np.random.randint(0,trainMnist[yTrain==i].shape[0])])\n",
        "  \n",
        "  # Преобразование списка меток в массив\n",
        "  sampled_labels = np.array(sampled_labels)\n",
        "  \n",
        "  # Генерация картинок. На вход генератора подается noise и список меток\n",
        "  gen_imgs = gen.predict([noise, sampled_labels])\n",
        "\n",
        "  # Rescale images 0 - 1\n",
        "  gen_imgs = 0.5 * gen_imgs + 0.5\n",
        "\n",
        "  # Подготовим \"полотна\" для отрисовки картинок\n",
        "  fig, axs = plt.subplots(r, c)\n",
        "\n",
        "  # Создаем счетчик картинок\n",
        "  cnt = 0\n",
        "\n",
        "  # Пройдемся по рядам картинок\n",
        "  for i in range(r):\n",
        "      \n",
        "      # Пройдемся по колонкам картинок\n",
        "      for j in range(c):\n",
        "          # Отобразим картинку под номером [i,j], преобразовав полученную из генератора в (28,28)\n",
        "          axs[i,j].imshow(gen_imgs[cnt].reshape((28,28)), cmap='gray')\n",
        "          # Оси не показываем\n",
        "          axs[i,j].axis('off')\n",
        "          # После отображения картинки счетчик увеличим на 1\n",
        "          cnt += 1\n",
        "\n",
        "  # Отобразим результаты\n",
        "  plt.show()\n",
        "  \n",
        "  # Закроем поток\n",
        "  plt.close()"
      ],
      "metadata": {
        "id": "hbh21tVLzNHl"
      },
      "execution_count": null,
      "outputs": []
    },
    {
      "cell_type": "code",
      "source": [
        "def train_conditional(generator, \n",
        "                      discriminator, \n",
        "                      epochs=30000, \n",
        "                      batch_size=128, \n",
        "                      sample_interval = 200):\n",
        "  '''\n",
        "  Данная функция проводит обучение сети. На вход принимает генератор и дискриминатор. А также количество эпох,\n",
        "  размер батча, интервал сэмплирования.\n",
        "  \n",
        "  Args:\n",
        "    generator       - подаем на вход генератор\n",
        "    discriminator   - подаем на вход дискриминатор\n",
        "    epochs          - количество эпох\n",
        "    batch_size      - размер батча\n",
        "    sample_interval - интервал отображения картинок\n",
        "\n",
        "  Функция ничего не возвращает\n",
        "  '''\n",
        "\n",
        "  # Создадим массив единичек размером batch_size (вертикальный)\n",
        "  valid = np.ones((batch_size, 1))\n",
        "\n",
        "  # Создадим массив нулей размером batch_size (вертикальный)  \n",
        "  fake = np.zeros((batch_size, 1))\n",
        "\n",
        "  # Создадим входной слой размером latent_dim.   \n",
        "  noise = Input(shape=(latent_dim,))\n",
        "   # Создадим входной слой размером (28,28,1)\n",
        "  label = Input(shape=img_shape)\n",
        "\n",
        "  # Скомпонуем генератор и подадим ему на вход два наших слоя\n",
        "  img = generator([noise, label])\n",
        "\n",
        "  # Теперь скомпонуем  дискриминатор и подадим ему на вход один из слоев и результат работы генератора.  \n",
        "  val = discriminator([img, label])\n",
        "  \n",
        "  # Соберем полностью модель сети из двух входов (noise,label) и одного выхода (val)\n",
        "  combined = Model([noise, label], val)\n",
        "\n",
        "  # Компилируем сеть используя бинарную кроссэнтропию и оптимизатор Adam (выше мы его задавали).\n",
        "  combined.compile(loss=['binary_crossentropy'],\n",
        "      optimizer=optimizer)\n",
        "\n",
        "  # Создадим набор пустых списков для ошибок дискриминатора, генератора и точности \n",
        "  d_loss_list = []\n",
        "  g_loss_list = []\n",
        "  d_acc_list = []\n",
        "  \n",
        "  # Запускаем цикл эпох обучения\n",
        "  for epoch in range(epochs):\n",
        "    # Выберем случайно массив индексов от 0 до 63000 размером batch_size    \n",
        "    idx1 = np.random.randint(0, trainMnistF.shape[0], batch_size) \n",
        "\n",
        "    # Загрузим картинки с выбранными индексами в imgs\n",
        "    imgs = trainMnistF[idx1]\n",
        "\n",
        "    # А цифры с оответствующими индексами в labels\n",
        "    labels = trainMnist[idx1]\n",
        "    # Создается матрица размером (batch_size,latent_dim) из значений нормального распределения\n",
        "    noise = np.random.normal(0, 1, (batch_size, latent_dim))\n",
        "\n",
        "    # Создаем несколько новых картинок\n",
        "    gen_imgs = generator.predict([noise, labels])\n",
        "\n",
        "    # Обучение дискриминатора на одном батче с правильными картинками\n",
        "    d_loss_real = discriminator.train_on_batch([imgs, labels], valid)\n",
        "\n",
        "    # Обучение дискриминатора на одном батче с фейковыми картинками\n",
        "    d_loss_fake = discriminator.train_on_batch([gen_imgs, labels], fake)\n",
        "\n",
        "    # Создание суммарного лосса дискриминатора (разделив пополам чтобы получить значения от 0 до 1)\n",
        "    d_loss = 0.5 * np.add(d_loss_real, d_loss_fake)\n",
        "\n",
        "    # Возьмем некоторый набор индексов размером с batch_size\n",
        "    idx2 = np.random.randint(0, trainMnist.shape[0], batch_size)\n",
        "\n",
        "    # Запишем картинки, связанные с этими индексами в отдельную переменную\n",
        "    sampled_labels = trainMnist[idx2]\n",
        "\n",
        "    # Тренируем сеть на одном батче картинок. \n",
        "    g_loss = combined.train_on_batch([noise, sampled_labels], valid)\n",
        "\n",
        "    # Запишем прогресс на данной эпохе обучения\n",
        "    print (\"%d [D loss: %f, acc.: %.2f%%] [G loss: %f]\" % (epoch, d_loss[0], 100*d_loss[1], g_loss))\n",
        "    \n",
        "    # Запишем в соответствующий список очередную ошибку дискриминатора\n",
        "    d_loss_list.append(d_loss[0])\n",
        "\n",
        "    # Запишем в соответствующий список очередную ошибку генератора\n",
        "    g_loss_list.append(g_loss)\n",
        "    \n",
        "    # Запишем в список точность дискриминатора\n",
        "    d_acc_list.append(100*d_loss[1])\n",
        "\n",
        "    # Если дошли до 200-ой эпохи или до предпоследней, то\n",
        "    if ((epoch % sample_interval == 0) | (epoch == epochs-1)):\n",
        "        # покажем очередную порцию картинок. Получив при этом номер текущей эпохи и генератор\n",
        "        sample_images_conditional(epoch, generator)\n",
        "        \n",
        "  # Выводим графики ошибок дискриминатора и генератора, их легенды.\n",
        "  plt.plot(d_loss_list, label=\"Ошибка дискриминатора\")\n",
        "  plt.plot(g_loss_list, label=\"Ошибка генератора\")\n",
        "  plt.legend()\n",
        "  plt.show()\n",
        "  # Также выведем график точности распознавания дискриминатора и легенду.\n",
        "  plt.plot(d_acc_list, label=\"Точность распознавания дискриминатора\")\n",
        "  plt.legend()\n",
        "  plt.show()\n",
        "    "
      ],
      "metadata": {
        "id": "12vyhLhfzTfo"
      },
      "execution_count": null,
      "outputs": []
    },
    {
      "cell_type": "code",
      "source": [
        "conditional_generator = create_conditional_generator()\n",
        "conditional_discriminator = create_conditional_discriminator()\n",
        "\n",
        "train_conditional(conditional_generator, conditional_discriminator, 2000, sample_interval=200)"
      ],
      "metadata": {
        "id": "K6tjQZzlzrsx"
      },
      "execution_count": null,
      "outputs": []
    },
    {
      "cell_type": "code",
      "source": [
        "# Скомпилируем обученный генератор.\n",
        "conditional_generator.compile()\n",
        "\n",
        "# И сохраним его в файл .h5 .\n",
        "conditional_generator.save('cond_gen_1.h5')\n",
        "# Загрузим обученную модель генератора.\n",
        "test_gen = load_model('cond_gen_1.h5')\n",
        "# Протестируем его работу. \n",
        "sample_images_conditional(0,test_gen)"
      ],
      "metadata": {
        "id": "pIpLXTlHzs0P"
      },
      "execution_count": null,
      "outputs": []
    },
    {
      "cell_type": "code",
      "source": [
        "train_conditional(conditional_generator, conditional_discriminator, 1000, sample_interval=200)"
      ],
      "metadata": {
        "id": "IfAR2zn-0I29"
      },
      "execution_count": null,
      "outputs": []
    },
    {
      "cell_type": "code",
      "source": [
        "# Скомпилируем обученный генератор.\n",
        "conditional_generator.compile()\n",
        "\n",
        "# И сохраним его в файл .h5 .\n",
        "conditional_generator.save('cond_gen_2.h5')\n",
        "# Загрузим обученную модель генератора.\n",
        "test_gen = load_model('cond_gen_2.h5')\n",
        "# Протестируем его работу. \n",
        "sample_images_conditional(0,test_gen)"
      ],
      "metadata": {
        "id": "jErG6RHv0Pbq"
      },
      "execution_count": null,
      "outputs": []
    },
    {
      "cell_type": "code",
      "source": [
        "def plot_label(indexes, \n",
        "               gen, \n",
        "               isHandWritten = False):\n",
        "  '''\n",
        "  Функция предоставляет функционал для работы с обученным генератором. Ее задача отобразить картинки.\n",
        "\n",
        "  Args:\n",
        "    indexes       - индексы по которым начинаем брать картинки цифр\n",
        "    gen           - сюда подаем наш собранный и обученный генератор\n",
        "    isHandWritten - эта переменная отвечает за выбор свои рукописные цифры берем или из базы MNIST\n",
        "\n",
        "  Функция ничего не возвращает \n",
        "  '''\n",
        "  sampled_labels = []                            # Создадим пустой список\n",
        "  paint_pictures = []                            # Создадим пустой список для самодельных картинок\n",
        "  pictures_path  = '/content/digits/'            # Путь к картинкам\n",
        "  dir_pictures  = os.listdir('/content/digits/') # Список картинок в директории\n",
        "\n",
        "  # Пройдемся по директории с картинками\n",
        "  for i in range(len(dir_pictures)):\n",
        "    \n",
        "    # Заполним список рукописными картинками\n",
        "    paint_pictures.append(image.load_img(pictures_path +                        \n",
        "                                         random.choice(dir_pictures), # Случайный выбор\n",
        "                                         target_size = (28, 28),      # Размер 28х28  \n",
        "                                         color_mode = \"grayscale\"))   # Цветовая палитра - серая\n",
        "\n",
        "  # Определимся откуда будем получать картинки \n",
        "  if (isHandWritten):  \n",
        "       \n",
        "    # Определим сколько картинок\n",
        "    length = len(paint_pictures)                                                \n",
        "\n",
        "    # Пройдемся по всем картинкам из списка\n",
        "    for i in range(length):    \n",
        "      \n",
        "      # Преобразуем картинку в массив\n",
        "      sampled_labels.append(image.img_to_array(paint_pictures[i]))            \n",
        "      # Нормируем\n",
        "      sampled_labels[i] = 255-sampled_labels[i]                                 \n",
        "      # Преобразуем значения массива в числа от -1 до 1\n",
        "      sampled_labels[i] = sampled_labels[i]/127.5 - 1.0                         \n",
        "      # Преобразуем к размерности 28,28,1\n",
        "      sampled_labels[i] = sampled_labels[i].reshape(28,28, 1)                    \n",
        "\n",
        "  # Если мы решили брать метки из MNIST\n",
        "  \n",
        "  else:\n",
        "    # Получим количество индексов\n",
        "    length = len(indexes)                                                       \n",
        "\n",
        "    # Проходимся по всем индексам\n",
        "    for i in indexes:\n",
        "      # Запишем в список цифры, полученные из обучающей выборки, по метке индекса\n",
        "      sampled_labels.append(trainMnist[yTrain==i][np.random.randint(0,trainMnist[yTrain==i].shape[0])])  \n",
        "  \n",
        "  # Преобразуем список меток в массив\n",
        "  sampled_labels = np.array(sampled_labels)                                     \n",
        "  \n",
        "  # Создадим массив шума\n",
        "  noise = np.random.normal(0, 1, (length, latent_dim))                           \n",
        "  \n",
        "  # Подадим шумы и цифры в генератор\n",
        "  gen_imgs = gen.predict([noise, sampled_labels])                               \n",
        "  \n",
        "  # Усредним показания генератора\n",
        "  gen_imgs = 0.5 * gen_imgs + 0.5                                               \n",
        "  \n",
        "  # Подготовим \"полотна\" для картинок\n",
        "  fig, axs = plt.subplots(2,length)                                             \n",
        "\n",
        "  # Если количество индексов равно 1\n",
        "  if (length==1):\n",
        "    # Решейпим \"полотна\" для 2 рядов и 1 колонки\n",
        "    axs = axs.reshape(2,1)                                                      \n",
        "  \n",
        "  # Счетчик в 0\n",
        "  cnt = 0                                                                       \n",
        "\n",
        "  # Пройдемся по всем индексам (их у нас всего length)\n",
        "  for i in range(length):      \n",
        "    \n",
        "    # Отобразим сгенерированную картинку\n",
        "    axs[1,i].imshow(gen_imgs[cnt].reshape((28,28)), cmap='gray')                \n",
        "    # Не показываем оси\n",
        "    axs[1,i].axis('off')                                                        \n",
        "    # Отобразим цифру\n",
        "    axs[0,i].imshow(sampled_labels[cnt].reshape((28,28)), cmap='gray')          \n",
        "    # Не показываем оси\n",
        "    axs[0,i].axis('off')                                                        \n",
        "    # Счетчик увеличим на 1\n",
        "    cnt += 1                                                                    \n",
        "  \n",
        "  # Отобразим\n",
        "  plt.show()  "
      ],
      "metadata": {
        "id": "mAjffu7p0Yye"
      },
      "execution_count": null,
      "outputs": []
    },
    {
      "cell_type": "code",
      "source": [
        "# Этой переменной задается количество картинок\n",
        "count = 3                          \n",
        "\n",
        "# Выберем случайные индексы\n",
        "idx = np.random.randint(0, num_classes, count)  \n",
        "\n",
        "# Выведем результат работы \n",
        "print (\"Случайный массив: \", idx)\n",
        "print (\"Соответствующие классы fashion_mnist: \")\n",
        "\n",
        "plot_label(idx, conditional_generator, False)           "
      ],
      "metadata": {
        "id": "8YT3N9ua0h_h"
      },
      "execution_count": null,
      "outputs": []
    }
  ]
}